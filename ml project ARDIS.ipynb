{
 "cells": [
  {
   "cell_type": "code",
   "execution_count": 7,
   "metadata": {},
   "outputs": [],
   "source": [
    "# Import cac thu vien can thiet\n",
    "\n",
    "import numpy as np\n",
    "import glob\n",
    "import cv2\n",
    "from sklearn.model_selection import train_test_split\n",
    "from skimage.feature import hog \n",
    "from sklearn.preprocessing import StandardScaler\n",
    "from sklearn.decomposition import PCA\n",
    "from sklearn.neighbors import KNeighborsClassifier\n",
    "from sklearn.linear_model import LogisticRegression\n",
    "from sklearn.svm import SVC\n",
    "from sklearn.metrics import confusion_matrix, accuracy_score\n",
    "from sklearn.metrics import plot_confusion_matrix\n",
    "import seaborn as sb\n",
    "import matplotlib.pyplot as plt"
   ]
  },
  {
   "cell_type": "code",
   "execution_count": 8,
   "metadata": {},
   "outputs": [],
   "source": [
    "# Tao khong gian Luu anh\n",
    "\n",
    "X = []\n",
    "Y = []\n",
    "X_train = []\n",
    "X_test = []\n",
    "Y_train = []\n",
    "Y_test = []"
   ]
  },
  {
   "cell_type": "code",
   "execution_count": 9,
   "metadata": {},
   "outputs": [],
   "source": [
    "# doc du lieu bo du lieu so 4\n",
    "#X_train=np.loadtxt(r'...\\ARDIS_DATASET_IV\\ARDIS_train_2828.csv', dtype='float')\n",
    "#X_test=np.loadtxt(r'...\\ARDIS_DATASET_IV\\ARDIS_test_2828.csv', dtype='float')\n",
    "#Y_train=np.loadtxt(r'...\\ARDIS_DATASET_IV\\ARDIS_train_labels.csv', dtype='float')\n",
    "#Y_test=np.loadtxt(r'...\\ARDIS_DATASET_IV\\ARDIS_test_labels.csv', dtype='float')\n",
    "# Reshape X\n",
    "#X_train = X_train.reshape(X_train.shape[0], 28, 28).astype('float64')\n",
    "#X_test = X_test.reshape(X_test.shape[0], 28, 28).astype('float64')"
   ]
  },
  {
   "cell_type": "code",
   "execution_count": 10,
   "metadata": {},
   "outputs": [],
   "source": [
    "# chuyen du lieu dau ra ve dang so de phu\n",
    "# Transform Y\n",
    "#def transform(Y):\n",
    "#    Y_temp = []\n",
    "#    for i in Y:\n",
    "#        for j in range(10):\n",
    "#            if i[j] == 1:\n",
    "#                Y_temp.append(j)\n",
    "#    Y_temp = np.array(Y_temp)\n",
    "#    return Y_temp\n",
    "#Y_train = transform(Y_train)\n",
    "#Y_test = transform(Y_test)\n",
    "\n",
    "# Chuyen X sang dang mang\n",
    "#X_train = np.array(X_train)\n",
    "#X_test = np.array(X_test)"
   ]
  },
  {
   "cell_type": "code",
   "execution_count": 11,
   "metadata": {},
   "outputs": [],
   "source": [
    "# Doc anh, chia du lieu Train va Test cho bo so 2 hoac 3\n",
    "\n",
    "for i in range(10):\n",
    "    for j in glob.glob(r'...\\ARDIS_DATASET_III' + '\\\\'+ str(i)+'\\*'):\n",
    "        img = cv2.imread(j) \n",
    "        img = cv2.cvtColor(img, cv2.COLOR_BGR2GRAY)    \n",
    "        img = cv2.resize(img,(28, 28)) \n",
    "        X.append(img)\n",
    "        Y.append(i)\n",
    "    X_train_temp, X_test_temp, Y_train_temp, Y_test_temp = train_test_split(X, Y, train_size = 66/76, random_state = 0)\n",
    "    X_train = X_train + X_train_temp\n",
    "    X_test = X_test + X_test_temp\n",
    "    Y_train = Y_train + Y_train_temp\n",
    "    Y_test = Y_test + Y_test_temp\n",
    "    del X[:]\n",
    "    del Y[:]\n"
   ]
  },
  {
   "cell_type": "code",
   "execution_count": 12,
   "metadata": {},
   "outputs": [],
   "source": [
    "# Ham HOG\n",
    "    \n",
    "def HOG(X):\n",
    "    X_temp = []\n",
    "    for i in range(len(X)):\n",
    "        img = hog(X[i], orientations = 8, pixels_per_cell = (4, 4), cells_per_block = (1,1))\n",
    "        X_temp.append(img)\n",
    "    return X_temp    \n",
    "\n",
    "X_train = HOG(X_train)\n",
    "X_test = HOG(X_test)"
   ]
  },
  {
   "cell_type": "code",
   "execution_count": 13,
   "metadata": {},
   "outputs": [],
   "source": [
    "# Chuyen ve dang mang\n",
    "\n",
    "X_train = np.array(X_train)\n",
    "Y_train = np.array(Y_train)\n",
    "X_test = np.array(X_test)\n",
    "Y_test = np.array(Y_test)\n"
   ]
  },
  {
   "cell_type": "code",
   "execution_count": 14,
   "metadata": {},
   "outputs": [],
   "source": [
    "# Chuan hoa du lieu\n",
    "\n",
    "SC = StandardScaler()\n",
    "X_train = SC.fit_transform(X_train)\n",
    "X_test = SC.transform(X_test)"
   ]
  },
  {
   "cell_type": "code",
   "execution_count": 15,
   "metadata": {},
   "outputs": [],
   "source": [
    "# Giam chieu su dung PCA\n",
    "\n",
    "pca = PCA(n_components = 0.95)\n",
    "X_train = pca.fit_transform(X_train)\n",
    "X_test = pca.transform(X_test)"
   ]
  },
  {
   "cell_type": "code",
   "execution_count": 16,
   "metadata": {},
   "outputs": [],
   "source": [
    "#Su dung thuat toan KNN\n",
    "\n",
    "#model = KNeighborsClassifier()\n",
    "#model.fit(X_train, Y_train)"
   ]
  },
  {
   "cell_type": "code",
   "execution_count": 17,
   "metadata": {},
   "outputs": [],
   "source": [
    "# Su dung thuat toan Logistic Regression\n",
    "#model = LogisticRegression()\n",
    "#model.fit(X_train, Y_train)"
   ]
  },
  {
   "cell_type": "code",
   "execution_count": 18,
   "metadata": {},
   "outputs": [
    {
     "data": {
      "text/plain": [
       "SVC(C=1.0, break_ties=False, cache_size=200, class_weight=None, coef0=0.0,\n",
       "    decision_function_shape='ovr', degree=3, gamma='scale', kernel='rbf',\n",
       "    max_iter=-1, probability=False, random_state=0, shrinking=True, tol=0.001,\n",
       "    verbose=False)"
      ]
     },
     "execution_count": 18,
     "metadata": {},
     "output_type": "execute_result"
    }
   ],
   "source": [
    "# Su dung thuat toan SVM\n",
    "\n",
    "model = SVC(random_state = 0)\n",
    "model.fit(X_train, Y_train)"
   ]
  },
  {
   "cell_type": "code",
   "execution_count": 19,
   "metadata": {},
   "outputs": [
    {
     "name": "stdout",
     "output_type": "stream",
     "text": [
      "Confusion Matrix TRAIN: \n"
     ]
    },
    {
     "data": {
      "image/png": "[encoded data removed]",
      "text/plain": [
       "<Figure size 432x288 with 2 Axes>"
      ]
     },
     "metadata": {
      "needs_background": "light"
     },
     "output_type": "display_data"
    }
   ],
   "source": [
    "# Confusion matrix cua tap Train\n",
    "\n",
    "print(\"Confusion Matrix TRAIN: \")\n",
    "plt.show(plot_confusion_matrix(model, X_train, Y_train,cmap = 'Blues', values_format = 'g'))"
   ]
  },
  {
   "cell_type": "code",
   "execution_count": 20,
   "metadata": {},
   "outputs": [
    {
     "name": "stdout",
     "output_type": "stream",
     "text": [
      "Accuracy Score TRAIN:  0.9989393939393939\n"
     ]
    }
   ],
   "source": [
    "# He so accuracy tren tap Train\n",
    "\n",
    "print(\"Accuracy Score TRAIN: \", accuracy_score(Y_train, model.predict(X_train)))"
   ]
  },
  {
   "cell_type": "code",
   "execution_count": 21,
   "metadata": {},
   "outputs": [
    {
     "name": "stdout",
     "output_type": "stream",
     "text": [
      "Confusion Matrix TEST: \n"
     ]
    },
    {
     "data": {
      "image/png": "[encoded data removed]",
      "text/plain": [
       "<Figure size 432x288 with 2 Axes>"
      ]
     },
     "metadata": {
      "needs_background": "light"
     },
     "output_type": "display_data"
    }
   ],
   "source": [
    "# Confusion matrix cua tap Test\n",
    "\n",
    "print(\"Confusion Matrix TEST: \")\n",
    "plt.show(plot_confusion_matrix(model, X_test, Y_test,cmap = 'Blues', values_format = 'g'))"
   ]
  },
  {
   "cell_type": "code",
   "execution_count": 22,
   "metadata": {},
   "outputs": [
    {
     "name": "stdout",
     "output_type": "stream",
     "text": [
      "Accuracy Score TEST:  0.969\n"
     ]
    }
   ],
   "source": [
    "# He so accuracy tren tap Test\n",
    "\n",
    "print(\"Accuracy Score TEST: \", accuracy_score(Y_test, model.predict(X_test)))"
   ]
  }
 ],
 "metadata": {
  "kernelspec": {
   "display_name": "Python 3",
   "language": "python",
   "name": "python3"
  },
  "language_info": {
   "codemirror_mode": {
    "name": "ipython",
    "version": 3
   },
   "file_extension": ".py",
   "mimetype": "text/x-python",
   "name": "python",
   "nbconvert_exporter": "python",
   "pygments_lexer": "ipython3",
   "version": "3.7.6"
  }
 },
 "nbformat": 4,
 "nbformat_minor": 4
}
